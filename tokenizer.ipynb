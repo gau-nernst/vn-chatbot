{
 "cells": [
  {
   "cell_type": "markdown",
   "metadata": {},
   "source": [
    "# Data statistics"
   ]
  },
  {
   "cell_type": "code",
   "execution_count": 2,
   "metadata": {},
   "outputs": [],
   "source": [
    "import random\n",
    "from tokenizer import get_threads, get_files\n",
    "\n",
    "files = get_files(\"./data\")\n",
    "threads = [x for x in get_threads(files)]"
   ]
  },
  {
   "cell_type": "code",
   "execution_count": 2,
   "metadata": {},
   "outputs": [
    {
     "data": {
      "text/plain": [
       "238961"
      ]
     },
     "execution_count": 2,
     "metadata": {},
     "output_type": "execute_result"
    }
   ],
   "source": [
    "num_threads = len(threads)\n",
    "num_threads"
   ]
  },
  {
   "cell_type": "code",
   "execution_count": 3,
   "metadata": {},
   "outputs": [
    {
     "data": {
      "text/plain": [
       "7230424"
      ]
     },
     "execution_count": 3,
     "metadata": {},
     "output_type": "execute_result"
    }
   ],
   "source": [
    "num_posts = sum([len(x) for x in threads])\n",
    "num_posts"
   ]
  },
  {
   "cell_type": "code",
   "execution_count": 4,
   "metadata": {},
   "outputs": [
    {
     "data": {
      "text/plain": [
       "23896"
      ]
     },
     "execution_count": 4,
     "metadata": {},
     "output_type": "execute_result"
    }
   ],
   "source": [
    "threads_small = random.sample(threads, num_threads//10)\n",
    "threads_small = [\" \".join(x) for x in threads_small]\n",
    "len(threads_small)"
   ]
  },
  {
   "cell_type": "code",
   "execution_count": 11,
   "metadata": {},
   "outputs": [
    {
     "data": {
      "text/html": [
       "<div>\n",
       "<style scoped>\n",
       "    .dataframe tbody tr th:only-of-type {\n",
       "        vertical-align: middle;\n",
       "    }\n",
       "\n",
       "    .dataframe tbody tr th {\n",
       "        vertical-align: top;\n",
       "    }\n",
       "\n",
       "    .dataframe thead th {\n",
       "        text-align: right;\n",
       "    }\n",
       "</style>\n",
       "<table border=\"1\" class=\"dataframe\">\n",
       "  <thead>\n",
       "    <tr style=\"text-align: right;\">\n",
       "      <th></th>\n",
       "      <th>thread</th>\n",
       "    </tr>\n",
       "  </thead>\n",
       "  <tbody>\n",
       "    <tr>\n",
       "      <th>0</th>\n",
       "      <td>sony a6000 + len kit + len fix 50 1.8 chụp ít ...</td>\n",
       "    </tr>\n",
       "    <tr>\n",
       "      <th>1</th>\n",
       "      <td>Dow Jones đang lên 26000 điểm . Mai lại nổ tiế...</td>\n",
       "    </tr>\n",
       "    <tr>\n",
       "      <th>2</th>\n",
       "      <td>hồi tháng 5 cũng con này e phải hạ giá xuống 2...</td>\n",
       "    </tr>\n",
       "    <tr>\n",
       "      <th>3</th>\n",
       "      <td>chuẩn bị giấy trước chủ tịch xã phường kí tên ...</td>\n",
       "    </tr>\n",
       "    <tr>\n",
       "      <th>4</th>\n",
       "      <td>Phim lịch sử muốn hay, không nhàm chán, thì ph...</td>\n",
       "    </tr>\n",
       "    <tr>\n",
       "      <th>...</th>\n",
       "      <td>...</td>\n",
       "    </tr>\n",
       "    <tr>\n",
       "      <th>23891</th>\n",
       "      <td>lần sau bị thụi thì cứ bóp vếu móc bím nó, nó ...</td>\n",
       "    </tr>\n",
       "    <tr>\n",
       "      <th>23892</th>\n",
       "      <td>minh bán hết rồi, thank bạn Mình có con i7 970...</td>\n",
       "    </tr>\n",
       "    <tr>\n",
       "      <th>23893</th>\n",
       "      <td>Công nhận là bao giờ nghĩ đến nyc nó cũng là c...</td>\n",
       "    </tr>\n",
       "    <tr>\n",
       "      <th>23894</th>\n",
       "      <td>Thà là tốc chiến nắm lệnh game moblie , để 3 n...</td>\n",
       "    </tr>\n",
       "    <tr>\n",
       "      <th>23895</th>\n",
       "      <td>toàn máu chó lên cả, thằng bị ngỏm cũng có vừa...</td>\n",
       "    </tr>\n",
       "  </tbody>\n",
       "</table>\n",
       "<p>23896 rows × 1 columns</p>\n",
       "</div>"
      ],
      "text/plain": [
       "                                                  thread\n",
       "0      sony a6000 + len kit + len fix 50 1.8 chụp ít ...\n",
       "1      Dow Jones đang lên 26000 điểm . Mai lại nổ tiế...\n",
       "2      hồi tháng 5 cũng con này e phải hạ giá xuống 2...\n",
       "3      chuẩn bị giấy trước chủ tịch xã phường kí tên ...\n",
       "4      Phim lịch sử muốn hay, không nhàm chán, thì ph...\n",
       "...                                                  ...\n",
       "23891  lần sau bị thụi thì cứ bóp vếu móc bím nó, nó ...\n",
       "23892  minh bán hết rồi, thank bạn Mình có con i7 970...\n",
       "23893  Công nhận là bao giờ nghĩ đến nyc nó cũng là c...\n",
       "23894  Thà là tốc chiến nắm lệnh game moblie , để 3 n...\n",
       "23895  toàn máu chó lên cả, thằng bị ngỏm cũng có vừa...\n",
       "\n",
       "[23896 rows x 1 columns]"
      ]
     },
     "execution_count": 11,
     "metadata": {},
     "output_type": "execute_result"
    }
   ],
   "source": [
    "import numpy as np\n",
    "import pandas as pd\n",
    "\n",
    "df = pd.DataFrame({\"thread\": threads_small})\n",
    "df"
   ]
  },
  {
   "cell_type": "code",
   "execution_count": 12,
   "metadata": {},
   "outputs": [
    {
     "data": {
      "text/html": [
       "<div>\n",
       "<style scoped>\n",
       "    .dataframe tbody tr th:only-of-type {\n",
       "        vertical-align: middle;\n",
       "    }\n",
       "\n",
       "    .dataframe tbody tr th {\n",
       "        vertical-align: top;\n",
       "    }\n",
       "\n",
       "    .dataframe thead th {\n",
       "        text-align: right;\n",
       "    }\n",
       "</style>\n",
       "<table border=\"1\" class=\"dataframe\">\n",
       "  <thead>\n",
       "    <tr style=\"text-align: right;\">\n",
       "      <th></th>\n",
       "      <th>thread</th>\n",
       "      <th>length</th>\n",
       "    </tr>\n",
       "  </thead>\n",
       "  <tbody>\n",
       "    <tr>\n",
       "      <th>0</th>\n",
       "      <td>sony a6000 + len kit + len fix 50 1.8 chụp ít ...</td>\n",
       "      <td>40</td>\n",
       "    </tr>\n",
       "    <tr>\n",
       "      <th>1</th>\n",
       "      <td>Dow Jones đang lên 26000 điểm . Mai lại nổ tiế...</td>\n",
       "      <td>469</td>\n",
       "    </tr>\n",
       "    <tr>\n",
       "      <th>2</th>\n",
       "      <td>hồi tháng 5 cũng con này e phải hạ giá xuống 2...</td>\n",
       "      <td>77</td>\n",
       "    </tr>\n",
       "    <tr>\n",
       "      <th>3</th>\n",
       "      <td>chuẩn bị giấy trước chủ tịch xã phường kí tên ...</td>\n",
       "      <td>171</td>\n",
       "    </tr>\n",
       "    <tr>\n",
       "      <th>4</th>\n",
       "      <td>Phim lịch sử muốn hay, không nhàm chán, thì ph...</td>\n",
       "      <td>1913</td>\n",
       "    </tr>\n",
       "    <tr>\n",
       "      <th>...</th>\n",
       "      <td>...</td>\n",
       "      <td>...</td>\n",
       "    </tr>\n",
       "    <tr>\n",
       "      <th>23891</th>\n",
       "      <td>lần sau bị thụi thì cứ bóp vếu móc bím nó, nó ...</td>\n",
       "      <td>548</td>\n",
       "    </tr>\n",
       "    <tr>\n",
       "      <th>23892</th>\n",
       "      <td>minh bán hết rồi, thank bạn Mình có con i7 970...</td>\n",
       "      <td>69</td>\n",
       "    </tr>\n",
       "    <tr>\n",
       "      <th>23893</th>\n",
       "      <td>Công nhận là bao giờ nghĩ đến nyc nó cũng là c...</td>\n",
       "      <td>59</td>\n",
       "    </tr>\n",
       "    <tr>\n",
       "      <th>23894</th>\n",
       "      <td>Thà là tốc chiến nắm lệnh game moblie , để 3 n...</td>\n",
       "      <td>316</td>\n",
       "    </tr>\n",
       "    <tr>\n",
       "      <th>23895</th>\n",
       "      <td>toàn máu chó lên cả, thằng bị ngỏm cũng có vừa...</td>\n",
       "      <td>9317</td>\n",
       "    </tr>\n",
       "  </tbody>\n",
       "</table>\n",
       "<p>23896 rows × 2 columns</p>\n",
       "</div>"
      ],
      "text/plain": [
       "                                                  thread  length\n",
       "0      sony a6000 + len kit + len fix 50 1.8 chụp ít ...      40\n",
       "1      Dow Jones đang lên 26000 điểm . Mai lại nổ tiế...     469\n",
       "2      hồi tháng 5 cũng con này e phải hạ giá xuống 2...      77\n",
       "3      chuẩn bị giấy trước chủ tịch xã phường kí tên ...     171\n",
       "4      Phim lịch sử muốn hay, không nhàm chán, thì ph...    1913\n",
       "...                                                  ...     ...\n",
       "23891  lần sau bị thụi thì cứ bóp vếu móc bím nó, nó ...     548\n",
       "23892  minh bán hết rồi, thank bạn Mình có con i7 970...      69\n",
       "23893  Công nhận là bao giờ nghĩ đến nyc nó cũng là c...      59\n",
       "23894  Thà là tốc chiến nắm lệnh game moblie , để 3 n...     316\n",
       "23895  toàn máu chó lên cả, thằng bị ngỏm cũng có vừa...    9317\n",
       "\n",
       "[23896 rows x 2 columns]"
      ]
     },
     "execution_count": 12,
     "metadata": {},
     "output_type": "execute_result"
    }
   ],
   "source": [
    "df[\"length\"] = df[\"thread\"].str.split().str.len()\n",
    "df"
   ]
  },
  {
   "cell_type": "code",
   "execution_count": 13,
   "metadata": {},
   "outputs": [
    {
     "data": {
      "text/html": [
       "<div>\n",
       "<style scoped>\n",
       "    .dataframe tbody tr th:only-of-type {\n",
       "        vertical-align: middle;\n",
       "    }\n",
       "\n",
       "    .dataframe tbody tr th {\n",
       "        vertical-align: top;\n",
       "    }\n",
       "\n",
       "    .dataframe thead th {\n",
       "        text-align: right;\n",
       "    }\n",
       "</style>\n",
       "<table border=\"1\" class=\"dataframe\">\n",
       "  <thead>\n",
       "    <tr style=\"text-align: right;\">\n",
       "      <th></th>\n",
       "      <th>length</th>\n",
       "    </tr>\n",
       "  </thead>\n",
       "  <tbody>\n",
       "    <tr>\n",
       "      <th>count</th>\n",
       "      <td>23896</td>\n",
       "    </tr>\n",
       "    <tr>\n",
       "      <th>mean</th>\n",
       "      <td>1105</td>\n",
       "    </tr>\n",
       "    <tr>\n",
       "      <th>std</th>\n",
       "      <td>6115</td>\n",
       "    </tr>\n",
       "    <tr>\n",
       "      <th>min</th>\n",
       "      <td>1</td>\n",
       "    </tr>\n",
       "    <tr>\n",
       "      <th>25%</th>\n",
       "      <td>91</td>\n",
       "    </tr>\n",
       "    <tr>\n",
       "      <th>50%</th>\n",
       "      <td>343</td>\n",
       "    </tr>\n",
       "    <tr>\n",
       "      <th>75%</th>\n",
       "      <td>979</td>\n",
       "    </tr>\n",
       "    <tr>\n",
       "      <th>max</th>\n",
       "      <td>620498</td>\n",
       "    </tr>\n",
       "  </tbody>\n",
       "</table>\n",
       "</div>"
      ],
      "text/plain": [
       "       length\n",
       "count   23896\n",
       "mean     1105\n",
       "std      6115\n",
       "min         1\n",
       "25%        91\n",
       "50%       343\n",
       "75%       979\n",
       "max    620498"
      ]
     },
     "execution_count": 13,
     "metadata": {},
     "output_type": "execute_result"
    }
   ],
   "source": [
    "df.describe().astype(int)"
   ]
  },
  {
   "cell_type": "code",
   "execution_count": 32,
   "metadata": {},
   "outputs": [
    {
     "data": {
      "text/plain": [
       "<AxesSubplot:ylabel='Frequency'>"
      ]
     },
     "execution_count": 32,
     "metadata": {},
     "output_type": "execute_result"
    },
    {
     "data": {
      "image/png": "[encoded data removed]",
      "text/plain": [
       "<Figure size 432x288 with 1 Axes>"
      ]
     },
     "metadata": {
      "needs_background": "light"
     },
     "output_type": "display_data"
    }
   ],
   "source": [
    "bins = np.logspace(0, np.log10(df[\"length\"].max()), 20)\n",
    "df[\"length\"].plot.hist(logx=True, bins=bins)"
   ]
  },
  {
   "cell_type": "code",
   "execution_count": 39,
   "metadata": {},
   "outputs": [
    {
     "data": {
      "text/plain": [
       "3911.0"
      ]
     },
     "execution_count": 39,
     "metadata": {},
     "output_type": "execute_result"
    }
   ],
   "source": [
    "np.percentile(df[\"length\"].to_numpy(), 95)"
   ]
  },
  {
   "cell_type": "code",
   "execution_count": 9,
   "metadata": {},
   "outputs": [],
   "source": [
    "def ngram_counter(texts, ngram=1):\n",
    "    counter = {}\n",
    "    \n",
    "    for item in texts:\n",
    "        words = item.split()\n",
    "        for i in range(len(words)+1-ngram):\n",
    "            x = tuple(words[i:i+ngram])\n",
    "            if x not in counter:\n",
    "                counter[x] = 1\n",
    "            else:\n",
    "                counter[x] += 1\n",
    "    \n",
    "    df = pd.DataFrame({\"ngram\": counter.keys(), \"count\": counter.values()})\n",
    "    df = df.sort_values(\"count\", ascending=False)\n",
    "    \n",
    "    return df"
   ]
  },
  {
   "cell_type": "code",
   "execution_count": 10,
   "metadata": {},
   "outputs": [
    {
     "data": {
      "text/html": [
       "<div>\n",
       "<style scoped>\n",
       "    .dataframe tbody tr th:only-of-type {\n",
       "        vertical-align: middle;\n",
       "    }\n",
       "\n",
       "    .dataframe tbody tr th {\n",
       "        vertical-align: top;\n",
       "    }\n",
       "\n",
       "    .dataframe thead th {\n",
       "        text-align: right;\n",
       "    }\n",
       "</style>\n",
       "<table border=\"1\" class=\"dataframe\">\n",
       "  <thead>\n",
       "    <tr style=\"text-align: right;\">\n",
       "      <th></th>\n",
       "      <th>ngram</th>\n",
       "      <th>count</th>\n",
       "    </tr>\n",
       "  </thead>\n",
       "  <tbody>\n",
       "    <tr>\n",
       "      <th>82</th>\n",
       "      <td>(có,)</td>\n",
       "      <td>321341</td>\n",
       "    </tr>\n",
       "    <tr>\n",
       "      <th>10</th>\n",
       "      <td>(là,)</td>\n",
       "      <td>311792</td>\n",
       "    </tr>\n",
       "    <tr>\n",
       "      <th>44</th>\n",
       "      <td>(thì,)</td>\n",
       "      <td>297267</td>\n",
       "    </tr>\n",
       "    <tr>\n",
       "      <th>55</th>\n",
       "      <td>(nó,)</td>\n",
       "      <td>165555</td>\n",
       "    </tr>\n",
       "    <tr>\n",
       "      <th>27</th>\n",
       "      <td>(mà,)</td>\n",
       "      <td>165274</td>\n",
       "    </tr>\n",
       "    <tr>\n",
       "      <th>188</th>\n",
       "      <td>(không,)</td>\n",
       "      <td>161674</td>\n",
       "    </tr>\n",
       "    <tr>\n",
       "      <th>1</th>\n",
       "      <td>(cũng,)</td>\n",
       "      <td>159187</td>\n",
       "    </tr>\n",
       "    <tr>\n",
       "      <th>258</th>\n",
       "      <td>(cho,)</td>\n",
       "      <td>154457</td>\n",
       "    </tr>\n",
       "    <tr>\n",
       "      <th>607</th>\n",
       "      <td>(của,)</td>\n",
       "      <td>150025</td>\n",
       "    </tr>\n",
       "    <tr>\n",
       "      <th>105</th>\n",
       "      <td>(này,)</td>\n",
       "      <td>136573</td>\n",
       "    </tr>\n",
       "    <tr>\n",
       "      <th>372</th>\n",
       "      <td>(và,)</td>\n",
       "      <td>126053</td>\n",
       "    </tr>\n",
       "    <tr>\n",
       "      <th>34</th>\n",
       "      <td>(làm,)</td>\n",
       "      <td>120055</td>\n",
       "    </tr>\n",
       "    <tr>\n",
       "      <th>59</th>\n",
       "      <td>(cái,)</td>\n",
       "      <td>118106</td>\n",
       "    </tr>\n",
       "    <tr>\n",
       "      <th>206</th>\n",
       "      <td>(được,)</td>\n",
       "      <td>115989</td>\n",
       "    </tr>\n",
       "    <tr>\n",
       "      <th>28</th>\n",
       "      <td>(ko,)</td>\n",
       "      <td>114154</td>\n",
       "    </tr>\n",
       "    <tr>\n",
       "      <th>101</th>\n",
       "      <td>(như,)</td>\n",
       "      <td>113612</td>\n",
       "    </tr>\n",
       "    <tr>\n",
       "      <th>256</th>\n",
       "      <td>(với,)</td>\n",
       "      <td>113160</td>\n",
       "    </tr>\n",
       "    <tr>\n",
       "      <th>20</th>\n",
       "      <td>(đi,)</td>\n",
       "      <td>109404</td>\n",
       "    </tr>\n",
       "    <tr>\n",
       "      <th>79</th>\n",
       "      <td>(ra,)</td>\n",
       "      <td>107212</td>\n",
       "    </tr>\n",
       "    <tr>\n",
       "      <th>330</th>\n",
       "      <td>(người,)</td>\n",
       "      <td>106953</td>\n",
       "    </tr>\n",
       "  </tbody>\n",
       "</table>\n",
       "</div>"
      ],
      "text/plain": [
       "        ngram   count\n",
       "82      (có,)  321341\n",
       "10      (là,)  311792\n",
       "44     (thì,)  297267\n",
       "55      (nó,)  165555\n",
       "27      (mà,)  165274\n",
       "188  (không,)  161674\n",
       "1     (cũng,)  159187\n",
       "258    (cho,)  154457\n",
       "607    (của,)  150025\n",
       "105    (này,)  136573\n",
       "372     (và,)  126053\n",
       "34     (làm,)  120055\n",
       "59     (cái,)  118106\n",
       "206   (được,)  115989\n",
       "28      (ko,)  114154\n",
       "101    (như,)  113612\n",
       "256    (với,)  113160\n",
       "20      (đi,)  109404\n",
       "79      (ra,)  107212\n",
       "330  (người,)  106953"
      ]
     },
     "execution_count": 10,
     "metadata": {},
     "output_type": "execute_result"
    }
   ],
   "source": [
    "unigram = ngram_counter(threads_small)\n",
    "unigram[:20]"
   ]
  },
  {
   "cell_type": "code",
   "execution_count": 11,
   "metadata": {},
   "outputs": [
    {
     "data": {
      "text/html": [
       "<div>\n",
       "<style scoped>\n",
       "    .dataframe tbody tr th:only-of-type {\n",
       "        vertical-align: middle;\n",
       "    }\n",
       "\n",
       "    .dataframe tbody tr th {\n",
       "        vertical-align: top;\n",
       "    }\n",
       "\n",
       "    .dataframe thead th {\n",
       "        text-align: right;\n",
       "    }\n",
       "</style>\n",
       "<table border=\"1\" class=\"dataframe\">\n",
       "  <thead>\n",
       "    <tr style=\"text-align: right;\">\n",
       "      <th></th>\n",
       "      <th>ngram</th>\n",
       "      <th>count</th>\n",
       "    </tr>\n",
       "  </thead>\n",
       "  <tbody>\n",
       "    <tr>\n",
       "      <th>168</th>\n",
       "      <td>(via, for)</td>\n",
       "      <td>34792</td>\n",
       "    </tr>\n",
       "    <tr>\n",
       "      <th>624</th>\n",
       "      <td>(for, iPhone)</td>\n",
       "      <td>31548</td>\n",
       "    </tr>\n",
       "    <tr>\n",
       "      <th>1212</th>\n",
       "      <td>(có, thể)</td>\n",
       "      <td>24910</td>\n",
       "    </tr>\n",
       "    <tr>\n",
       "      <th>2391</th>\n",
       "      <td>(bằng, vozFApp)</td>\n",
       "      <td>19906</td>\n",
       "    </tr>\n",
       "    <tr>\n",
       "      <th>4071</th>\n",
       "      <td>(Gửi, từ)</td>\n",
       "      <td>17877</td>\n",
       "    </tr>\n",
       "    <tr>\n",
       "      <th>1692</th>\n",
       "      <td>(không, có)</td>\n",
       "      <td>14198</td>\n",
       "    </tr>\n",
       "    <tr>\n",
       "      <th>2584</th>\n",
       "      <td>(Sent, from)</td>\n",
       "      <td>13206</td>\n",
       "    </tr>\n",
       "    <tr>\n",
       "      <th>2233</th>\n",
       "      <td>(cũng, có)</td>\n",
       "      <td>10630</td>\n",
       "    </tr>\n",
       "    <tr>\n",
       "      <th>3051</th>\n",
       "      <td>(thời, gian)</td>\n",
       "      <td>10610</td>\n",
       "    </tr>\n",
       "    <tr>\n",
       "      <th>3175</th>\n",
       "      <td>(ko, có)</td>\n",
       "      <td>9979</td>\n",
       "    </tr>\n",
       "    <tr>\n",
       "      <th>25485</th>\n",
       "      <td>(ủng, hộ)</td>\n",
       "      <td>9886</td>\n",
       "    </tr>\n",
       "    <tr>\n",
       "      <th>816</th>\n",
       "      <td>(chỉ, có)</td>\n",
       "      <td>9872</td>\n",
       "    </tr>\n",
       "    <tr>\n",
       "      <th>2739</th>\n",
       "      <td>(thì, có)</td>\n",
       "      <td>9566</td>\n",
       "    </tr>\n",
       "    <tr>\n",
       "      <th>1520</th>\n",
       "      <td>(không, phải)</td>\n",
       "      <td>9554</td>\n",
       "    </tr>\n",
       "    <tr>\n",
       "      <th>2371</th>\n",
       "      <td>(người, ta)</td>\n",
       "      <td>9514</td>\n",
       "    </tr>\n",
       "    <tr>\n",
       "      <th>2531</th>\n",
       "      <td>(làm, gì)</td>\n",
       "      <td>9465</td>\n",
       "    </tr>\n",
       "    <tr>\n",
       "      <th>2611</th>\n",
       "      <td>(thì, cũng)</td>\n",
       "      <td>9170</td>\n",
       "    </tr>\n",
       "    <tr>\n",
       "      <th>1479</th>\n",
       "      <td>(nào, cũng)</td>\n",
       "      <td>9125</td>\n",
       "    </tr>\n",
       "    <tr>\n",
       "      <th>15454</th>\n",
       "      <td>(Hà, Nội)</td>\n",
       "      <td>8876</td>\n",
       "    </tr>\n",
       "    <tr>\n",
       "      <th>5339</th>\n",
       "      <td>(vấn, đề)</td>\n",
       "      <td>8780</td>\n",
       "    </tr>\n",
       "  </tbody>\n",
       "</table>\n",
       "</div>"
      ],
      "text/plain": [
       "                 ngram  count\n",
       "168         (via, for)  34792\n",
       "624      (for, iPhone)  31548\n",
       "1212         (có, thể)  24910\n",
       "2391   (bằng, vozFApp)  19906\n",
       "4071         (Gửi, từ)  17877\n",
       "1692       (không, có)  14198\n",
       "2584      (Sent, from)  13206\n",
       "2233        (cũng, có)  10630\n",
       "3051      (thời, gian)  10610\n",
       "3175          (ko, có)   9979\n",
       "25485        (ủng, hộ)   9886\n",
       "816          (chỉ, có)   9872\n",
       "2739         (thì, có)   9566\n",
       "1520     (không, phải)   9554\n",
       "2371       (người, ta)   9514\n",
       "2531         (làm, gì)   9465\n",
       "2611       (thì, cũng)   9170\n",
       "1479       (nào, cũng)   9125\n",
       "15454        (Hà, Nội)   8876\n",
       "5339         (vấn, đề)   8780"
      ]
     },
     "execution_count": 11,
     "metadata": {},
     "output_type": "execute_result"
    }
   ],
   "source": [
    "bigram = ngram_counter(threads_small, ngram=2)\n",
    "bigram[:20]"
   ]
  },
  {
   "cell_type": "code",
   "execution_count": 12,
   "metadata": {},
   "outputs": [
    {
     "data": {
      "text/html": [
       "<div>\n",
       "<style scoped>\n",
       "    .dataframe tbody tr th:only-of-type {\n",
       "        vertical-align: middle;\n",
       "    }\n",
       "\n",
       "    .dataframe tbody tr th {\n",
       "        vertical-align: top;\n",
       "    }\n",
       "\n",
       "    .dataframe thead th {\n",
       "        text-align: right;\n",
       "    }\n",
       "</style>\n",
       "<table border=\"1\" class=\"dataframe\">\n",
       "  <thead>\n",
       "    <tr style=\"text-align: right;\">\n",
       "      <th></th>\n",
       "      <th>ngram</th>\n",
       "      <th>count</th>\n",
       "    </tr>\n",
       "  </thead>\n",
       "  <tbody>\n",
       "    <tr>\n",
       "      <th>646</th>\n",
       "      <td>(via, for, iPhone)</td>\n",
       "      <td>31413</td>\n",
       "    </tr>\n",
       "    <tr>\n",
       "      <th>104517</th>\n",
       "      <td>(Đống, Đa,, Hà)</td>\n",
       "      <td>6004</td>\n",
       "    </tr>\n",
       "    <tr>\n",
       "      <th>104518</th>\n",
       "      <td>(Đa,, Hà, Nội)</td>\n",
       "      <td>5985</td>\n",
       "    </tr>\n",
       "    <tr>\n",
       "      <th>941843</th>\n",
       "      <td>(Phạm, Ngọc, Thạch,)</td>\n",
       "      <td>5982</td>\n",
       "    </tr>\n",
       "    <tr>\n",
       "      <th>2014691</th>\n",
       "      <td>(Anh, Chị, Em)</td>\n",
       "      <td>5976</td>\n",
       "    </tr>\n",
       "    <tr>\n",
       "      <th>2014709</th>\n",
       "      <td>(085, 373, 5555)</td>\n",
       "      <td>5972</td>\n",
       "    </tr>\n",
       "    <tr>\n",
       "      <th>1447762</th>\n",
       "      <td>(Em, ủng, hộ)</td>\n",
       "      <td>5972</td>\n",
       "    </tr>\n",
       "    <tr>\n",
       "      <th>2014699</th>\n",
       "      <td>(101, Phạm, Ngọc)</td>\n",
       "      <td>5971</td>\n",
       "    </tr>\n",
       "    <tr>\n",
       "      <th>2014705</th>\n",
       "      <td>(0242, 2133, 136)</td>\n",
       "      <td>5971</td>\n",
       "    </tr>\n",
       "    <tr>\n",
       "      <th>2014706</th>\n",
       "      <td>(2133, 136, -)</td>\n",
       "      <td>5971</td>\n",
       "    </tr>\n",
       "    <tr>\n",
       "      <th>2014712</th>\n",
       "      <td>(-, 0855, 00)</td>\n",
       "      <td>5971</td>\n",
       "    </tr>\n",
       "    <tr>\n",
       "      <th>2014713</th>\n",
       "      <td>(0855, 00, 1111)</td>\n",
       "      <td>5971</td>\n",
       "    </tr>\n",
       "    <tr>\n",
       "      <th>2014716</th>\n",
       "      <td>(Web, bán, hàng:)</td>\n",
       "      <td>5971</td>\n",
       "    </tr>\n",
       "    <tr>\n",
       "      <th>2014715</th>\n",
       "      <td>(1111, Web, bán)</td>\n",
       "      <td>5971</td>\n",
       "    </tr>\n",
       "    <tr>\n",
       "      <th>2014714</th>\n",
       "      <td>(00, 1111, Web)</td>\n",
       "      <td>5971</td>\n",
       "    </tr>\n",
       "    <tr>\n",
       "      <th>2014701</th>\n",
       "      <td>(Thạch,, Đống, Đa,)</td>\n",
       "      <td>5971</td>\n",
       "    </tr>\n",
       "    <tr>\n",
       "      <th>2014711</th>\n",
       "      <td>(5555, -, 0855)</td>\n",
       "      <td>5971</td>\n",
       "    </tr>\n",
       "    <tr>\n",
       "      <th>2014710</th>\n",
       "      <td>(373, 5555, -)</td>\n",
       "      <td>5971</td>\n",
       "    </tr>\n",
       "    <tr>\n",
       "      <th>2014700</th>\n",
       "      <td>(Ngọc, Thạch,, Đống)</td>\n",
       "      <td>5971</td>\n",
       "    </tr>\n",
       "    <tr>\n",
       "      <th>2014702</th>\n",
       "      <td>(Hà, Nội, ĐT:)</td>\n",
       "      <td>5969</td>\n",
       "    </tr>\n",
       "  </tbody>\n",
       "</table>\n",
       "</div>"
      ],
      "text/plain": [
       "                        ngram  count\n",
       "646        (via, for, iPhone)  31413\n",
       "104517        (Đống, Đa,, Hà)   6004\n",
       "104518         (Đa,, Hà, Nội)   5985\n",
       "941843   (Phạm, Ngọc, Thạch,)   5982\n",
       "2014691        (Anh, Chị, Em)   5976\n",
       "2014709      (085, 373, 5555)   5972\n",
       "1447762         (Em, ủng, hộ)   5972\n",
       "2014699     (101, Phạm, Ngọc)   5971\n",
       "2014705     (0242, 2133, 136)   5971\n",
       "2014706        (2133, 136, -)   5971\n",
       "2014712         (-, 0855, 00)   5971\n",
       "2014713      (0855, 00, 1111)   5971\n",
       "2014716     (Web, bán, hàng:)   5971\n",
       "2014715      (1111, Web, bán)   5971\n",
       "2014714       (00, 1111, Web)   5971\n",
       "2014701   (Thạch,, Đống, Đa,)   5971\n",
       "2014711       (5555, -, 0855)   5971\n",
       "2014710        (373, 5555, -)   5971\n",
       "2014700  (Ngọc, Thạch,, Đống)   5971\n",
       "2014702        (Hà, Nội, ĐT:)   5969"
      ]
     },
     "execution_count": 12,
     "metadata": {},
     "output_type": "execute_result"
    }
   ],
   "source": [
    "trigram = ngram_counter(threads_small, ngram=3)\n",
    "trigram[:20]"
   ]
  },
  {
   "cell_type": "markdown",
   "metadata": {},
   "source": [
    "# Tokenizer"
   ]
  },
  {
   "cell_type": "code",
   "execution_count": 3,
   "metadata": {},
   "outputs": [],
   "source": [
    "samples = random.sample(threads, 100)"
   ]
  },
  {
   "cell_type": "markdown",
   "metadata": {},
   "source": [
    "## Hugging Face tokenizer"
   ]
  },
  {
   "cell_type": "code",
   "execution_count": 9,
   "metadata": {},
   "outputs": [
    {
     "data": {
      "text/plain": [
       "15000"
      ]
     },
     "execution_count": 9,
     "metadata": {},
     "output_type": "execute_result"
    }
   ],
   "source": [
    "from tokenizers import Tokenizer\n",
    "\n",
    "tokenizer = Tokenizer.from_file(\"voz_tokenizer.json\")\n",
    "tokenizer.get_vocab_size()"
   ]
  },
  {
   "cell_type": "code",
   "execution_count": 10,
   "metadata": {},
   "outputs": [
    {
     "name": "stdout",
     "output_type": "stream",
     "text": [
      "[(0, 'UNK'), (1, '<PAD>'), (2, '<BOS>'), (3, '<EOS>'), (4, '<SEP>'), (5, '!'), (6, '\"'), (7, '#'), (8, '$'), (9, '%')]\n",
      "[(14990, 'B1'), (14991, 'xk'), (14992, 'Gar'), (14993, 'Riết'), (14994, 'amin'), (14995, 'lải'), (14996, 'chiêm'), (14997, '20m'), (14998, 'AIO'), (14999, 'extension')]\n"
     ]
    }
   ],
   "source": [
    "vocab = tokenizer.get_vocab()\n",
    "vocab = [(v,k) for k,v in vocab.items()]\n",
    "vocab.sort()\n",
    "print(vocab[:10])\n",
    "print(vocab[-10:])"
   ]
  },
  {
   "cell_type": "code",
   "execution_count": 12,
   "metadata": {},
   "outputs": [
    {
     "name": "stdout",
     "output_type": "stream",
     "text": [
      "đề thi thử của trường Vừa mới tốt nghiệp là tranh thủ lên xe bông. Chắc sợ để lâu quá tới năm 28 tuổi lại bị các vozer kêu dẫm kiếm đc mối ngon + kinh tế vững thì cưới thôi fence, đâu có như chúng ta Chuẩn rồi, bố mẹ còn trẻ thì cứ cưới cứ đẻ, vừa nhờ đc kinh tế, vừa nhờ chăm con cho, sướng cái thân. Ổn định vài năm phấn đấu sự nghiệp thôi\n",
      "[6344, 6557, 6541, 5884, 6231, 8068, 5970, 6283, 6495, 5823, 6675, 6449, 6001, 6077, 9641, 18, 6983, 6558, 5935, 6442, 6061, 6220, 6023, 7872, 6454, 5922, 5982, 5930, 7019, 6770, 11072, 6508, 6120, 7738, 6323, 15, 6332, 6336, 9077, 5837, 7315, 5962, 7446, 16, 6026, 5835, 5857, 6421, 6086, 8350, 5896, 16, 6459, 6238, 5931, 6604, 5837, 6102, 7315, 6102, 7465, 16, 6318, 7028, 6120, 6332, 6336, 16, 6318, 7028, 7418, 5915, 5869, 16, 7342, 5905, 6492, 18, 6539, 6778, 6188, 6413, 6023, 9288, 7054, 6203, 6495, 5962]\n",
      "['đề', 'thi', 'thử', 'của', 'trường', 'Vừa', 'mới', 'tốt', 'nghiệp', 'là', 'tranh', 'thủ', 'lên', 'xe', 'bông', '.', 'Chắc', 'sợ', 'để', 'lâu', 'quá', 'tới', 'năm', '28', 'tuổi', 'lại', 'bị', 'các', 'vozer', 'kêu', 'dẫm', 'kiếm', 'đc', 'mối', 'ngon', '+', 'kinh', 'tế', 'vững', 'thì', 'cưới', 'thôi', 'fence', ',', 'đâu', 'có', 'như', 'chúng', 'ta', 'Chuẩn', 'rồi', ',', 'bố', 'mẹ', 'còn', 'trẻ', 'thì', 'cứ', 'cưới', 'cứ', 'đẻ', ',', 'vừa', 'nhờ', 'đc', 'kinh', 'tế', ',', 'vừa', 'nhờ', 'chăm', 'con', 'cho', ',', 'sướng', 'cái', 'thân', '.', 'Ô', '̉n', 'định', 'vài', 'năm', 'phấn', 'đấu', 'sự', 'nghiệp', 'thôi']\n",
      "đề thi thử của trường Vừa mới tốt nghiệp là tranh thủ lên xe bông . Chắc sợ để lâu quá tới năm 28 tuổi lại bị các vozer kêu dẫm kiếm đc mối ngon + kinh tế vững thì cưới thôi fence , đâu có như chúng ta Chuẩn rồi , bố mẹ còn trẻ thì cứ cưới cứ đẻ , vừa nhờ đc kinh tế , vừa nhờ chăm con cho , sướng cái thân . Ô ̉n định vài năm phấn đấu sự nghiệp thôi\n"
     ]
    }
   ],
   "source": [
    "sample = samples[1]\n",
    "sample = \" \".join(sample)\n",
    "\n",
    "output = tokenizer.encode(sample)\n",
    "restored = tokenizer.decode(output.ids)\n",
    "\n",
    "print(sample)\n",
    "print(output.ids)\n",
    "print(output.tokens)\n",
    "print(restored)"
   ]
  },
  {
   "cell_type": "code",
   "execution_count": 13,
   "metadata": {},
   "outputs": [
    {
     "name": "stdout",
     "output_type": "stream",
     "text": [
      "Number of words: 100677\n",
      "Number of tokens: 117747\n",
      "Ratio: 1.1695521320659137\n"
     ]
    }
   ],
   "source": [
    "num_words = 0\n",
    "num_tokens = 0\n",
    "\n",
    "for x in samples:\n",
    "    x = \" \".join(x)\n",
    "    output = tokenizer.encode(x)\n",
    "    \n",
    "    num_words += len(x.split())\n",
    "    num_tokens += len(output.ids)\n",
    "\n",
    "print(\"Number of words:\", num_words)\n",
    "print(\"Number of tokens:\", num_tokens)\n",
    "print(\"Ratio:\", num_tokens/num_words)"
   ]
  },
  {
   "cell_type": "markdown",
   "metadata": {},
   "source": [
    "## Sentencepiece tokenizer"
   ]
  },
  {
   "cell_type": "code",
   "execution_count": 4,
   "metadata": {},
   "outputs": [
    {
     "data": {
      "text/plain": [
       "15000"
      ]
     },
     "execution_count": 4,
     "metadata": {},
     "output_type": "execute_result"
    }
   ],
   "source": [
    "import sentencepiece as spm\n",
    "\n",
    "s = spm.SentencePieceProcessor(model_file='voz_out.model')\n",
    "s.vocab_size()"
   ]
  },
  {
   "cell_type": "code",
   "execution_count": 5,
   "metadata": {},
   "outputs": [
    {
     "name": "stdout",
     "output_type": "stream",
     "text": [
      "[['<unk>', '0'], ['<s>', '0'], ['</s>', '0'], ['<sep>', '0'], ['▁t', '-0'], ['▁c', '-1'], ['ng', '-2'], ['▁n', '-3'], ['▁đ', '-4'], ['▁th', '-5']]\n",
      "[['📆', '-14986'], ['📰', '-14987'], ['📺', '-14988'], ['🔇', '-14989'], ['🔈', '-14990'], ['🔉', '-14991'], ['🔋', '-14992'], ['🔖', '-14993'], ['🔷', '-14994'], ['🕴', '-14995']]\n"
     ]
    }
   ],
   "source": [
    "with open(\"voz_out.vocab\", \"r\", encoding=\"utf-8\") as f:\n",
    "    vocab = [x.rstrip().split() for x in f]\n",
    "\n",
    "print(vocab[:10])\n",
    "print(vocab[-10:])"
   ]
  },
  {
   "cell_type": "code",
   "execution_count": 7,
   "metadata": {},
   "outputs": [
    {
     "name": "stdout",
     "output_type": "stream",
     "text": [
      "đề thi thử của trường Vừa mới tốt nghiệp là tranh thủ lên xe bông. Chắc sợ để lâu quá tới năm 28 tuổi lại bị các vozer kêu dẫm kiếm đc mối ngon + kinh tế vững thì cưới thôi fence, đâu có như chúng ta Chuẩn rồi, bố mẹ còn trẻ thì cứ cưới cứ đẻ, vừa nhờ đc kinh tế, vừa nhờ chăm con cho, sướng cái thân. Ổn định vài năm phấn đấu sự nghiệp thôi\n",
      "[322, 826, 750, 71, 444, 2370, 164, 493, 704, 25, 887, 641, 197, 321, 4062, 9425, 1203, 767, 123, 651, 246, 426, 213, 2785, 663, 113, 179, 89, 1232, 975, 5649, 721, 317, 2002, 532, 655, 544, 547, 3449, 36, 1554, 149, 1692, 9430, 212, 32, 59, 626, 419, 2675, 85, 9430, 652, 439, 121, 807, 36, 259, 1554, 259, 1706, 9430, 533, 1231, 317, 544, 547, 9430, 533, 1231, 1656, 110, 70, 9430, 1581, 96, 694, 9425, 4066, 9408, 389, 621, 213, 3691, 1276, 406, 704, 149]\n",
      "['▁đề', '▁thi', '▁thử', '▁của', '▁trường', '▁Vừa', '▁mới', '▁tốt', '▁nghiệp', '▁là', '▁tranh', '▁thủ', '▁lên', '▁xe', '▁bông', '.', '▁Chắc', '▁sợ', '▁để', '▁lâu', '▁quá', '▁tới', '▁năm', '▁28', '▁tuổi', '▁lại', '▁bị', '▁các', '▁vozer', '▁kêu', '▁dẫm', '▁kiếm', '▁đc', '▁mối', '▁ngon', '▁+', '▁kinh', '▁tế', '▁vững', '▁thì', '▁cưới', '▁thôi', '▁fence', ',', '▁đâu', '▁có', '▁như', '▁chúng', '▁ta', '▁Chuẩn', '▁rồi', ',', '▁bố', '▁mẹ', '▁còn', '▁trẻ', '▁thì', '▁cứ', '▁cưới', '▁cứ', '▁đẻ', ',', '▁vừa', '▁nhờ', '▁đc', '▁kinh', '▁tế', ',', '▁vừa', '▁nhờ', '▁chăm', '▁con', '▁cho', ',', '▁sướng', '▁cái', '▁thân', '.', '▁Ổ', 'n', '▁định', '▁vài', '▁năm', '▁phấn', '▁đấu', '▁sự', '▁nghiệp', '▁thôi']\n",
      "đề thi thử của trường Vừa mới tốt nghiệp là tranh thủ lên xe bông. Chắc sợ để lâu quá tới năm 28 tuổi lại bị các vozer kêu dẫm kiếm đc mối ngon + kinh tế vững thì cưới thôi fence, đâu có như chúng ta Chuẩn rồi, bố mẹ còn trẻ thì cứ cưới cứ đẻ, vừa nhờ đc kinh tế, vừa nhờ chăm con cho, sướng cái thân. Ổn định vài năm phấn đấu sự nghiệp thôi\n"
     ]
    }
   ],
   "source": [
    "sample = samples[1]\n",
    "sample = \" \".join(sample)\n",
    "\n",
    "output = s.encode(sample)\n",
    "restored = s.decode(output)\n",
    "\n",
    "print(sample)\n",
    "print(output)\n",
    "print([s.IdToPiece(x) for x in output])\n",
    "print(restored)"
   ]
  },
  {
   "cell_type": "code",
   "execution_count": 8,
   "metadata": {},
   "outputs": [
    {
     "name": "stdout",
     "output_type": "stream",
     "text": [
      "Number of words: 100677\n",
      "Number of tokens: 119335\n",
      "Ratio: 1.1853253473981147\n"
     ]
    }
   ],
   "source": [
    "num_words = 0\n",
    "num_tokens = 0\n",
    "\n",
    "for x in samples:\n",
    "    x = \" \".join(x)\n",
    "    output = s.encode(x)\n",
    "    \n",
    "    num_words += len(x.split())\n",
    "    num_tokens += len(output)\n",
    "\n",
    "print(\"Number of words:\", num_words)\n",
    "print(\"Number of tokens:\", num_tokens)\n",
    "print(\"Ratio:\", num_tokens/num_words)"
   ]
  }
 ],
 "metadata": {
  "kernelspec": {
   "display_name": "Python [conda env:vn-chatbot]",
   "language": "python",
   "name": "conda-env-vn-chatbot-py"
  },
  "language_info": {
   "codemirror_mode": {
    "name": "ipython",
    "version": 3
   },
   "file_extension": ".py",
   "mimetype": "text/x-python",
   "name": "python",
   "nbconvert_exporter": "python",
   "pygments_lexer": "ipython3",
   "version": "3.8.8"
  }
 },
 "nbformat": 4,
 "nbformat_minor": 4
}
